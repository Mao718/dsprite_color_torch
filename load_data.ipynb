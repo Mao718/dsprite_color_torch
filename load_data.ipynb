{
 "cells": [
  {
   "cell_type": "code",
   "execution_count": 3,
   "id": "9a2ff482",
   "metadata": {},
   "outputs": [],
   "source": [
    "import torch\n",
    "from torch.utils.data import Dataset, DataLoader\n",
    "import numpy as np\n",
    "import cv2\n",
    "import os"
   ]
  },
  {
   "cell_type": "code",
   "execution_count": 22,
   "id": "4b1c5b71",
   "metadata": {},
   "outputs": [],
   "source": [
    "class dsprite_color(Dataset):\n",
    "    def __init__(self,balance_matrix:\"3x3 ndarray\"):\n",
    "        \"\"\"\n",
    "        color * shape\n",
    "        rc rh rs\n",
    "        gc gh gs\n",
    "        bc bh bs\n",
    "        \"\"\"\n",
    "        if balance_matrix.shape[0] != 3 or balance_matrix.shape[1] != 3:\n",
    "            raise \"error balance_matrix out of range should be 3*3\"\n",
    "        \n",
    "        self.imgs_path = \"dsprite_color_fig/\"\n",
    "        self.colors=['red/','green/','blue/']\n",
    "        self.shapes=['circle/','heart/','square/']\n",
    "        \n",
    "        self.data = []\n",
    "        for color_i in range(balance_matrix.shape[0]):\n",
    "            for shape_i in range(balance_matrix.shape[1]):\n",
    "                folder_path=self.imgs_path+self.shapes[shape_i]+self.colors[color_i]\n",
    "                img_paths=os.listdir(folder_path)\n",
    "                # load only data_numbers data\n",
    "                data_number=int(balance_matrix[color_i,shape_i]*len(img_paths))\n",
    "                for i in range(data_number):\n",
    "                    self.data.append([folder_path+img_paths[i] ,shape_i,color_i])\n",
    "        self.color_map = {0:\"red\",1:\"green\",2:\"blue\"}\n",
    "        self.shape_map ={0:\"circle\",1:\"heart\",2:\"square\"}\n",
    "        self.img_dim = (64,64)\n",
    "    def __len__(self):\n",
    "        return len(self.data)\n",
    "    def __getitem__(self, idx):\n",
    "        img_path , shape_id , color_id = self.data[idx]\n",
    "        img = cv2.imread(img_path)\n",
    "        img = cv2.resize(img, self.img_dim)\n",
    "        img_tensor = torch.from_numpy(img)\n",
    "        img_tensor = img_tensor.permute(2, 0, 1)\n",
    "        shape_id = torch.tensor([shape_id])\n",
    "        color_id = torch.tensor([color_id])\n",
    "        return img_tensor, shape_id, color_id "
   ]
  },
  {
   "cell_type": "code",
   "execution_count": 23,
   "id": "b4289081",
   "metadata": {},
   "outputs": [],
   "source": [
    "data_loader=dsprite_color(np.arange(9).reshape(3,3)/8)"
   ]
  },
  {
   "cell_type": "code",
   "execution_count": 25,
   "id": "cac608d2",
   "metadata": {},
   "outputs": [],
   "source": [
    "inputs, shape,color = next(iter(data_loader))  "
   ]
  },
  {
   "cell_type": "code",
   "execution_count": null,
   "id": "54ae79f9",
   "metadata": {},
   "outputs": [],
   "source": []
  }
 ],
 "metadata": {
  "kernelspec": {
   "display_name": "Python 3 (ipykernel)",
   "language": "python",
   "name": "python3"
  },
  "language_info": {
   "codemirror_mode": {
    "name": "ipython",
    "version": 3
   },
   "file_extension": ".py",
   "mimetype": "text/x-python",
   "name": "python",
   "nbconvert_exporter": "python",
   "pygments_lexer": "ipython3",
   "version": "3.8.5"
  },
  "varInspector": {
   "cols": {
    "lenName": 16,
    "lenType": 16,
    "lenVar": 40
   },
   "kernels_config": {
    "python": {
     "delete_cmd_postfix": "",
     "delete_cmd_prefix": "del ",
     "library": "var_list.py",
     "varRefreshCmd": "print(var_dic_list())"
    },
    "r": {
     "delete_cmd_postfix": ") ",
     "delete_cmd_prefix": "rm(",
     "library": "var_list.r",
     "varRefreshCmd": "cat(var_dic_list()) "
    }
   },
   "types_to_exclude": [
    "module",
    "function",
    "builtin_function_or_method",
    "instance",
    "_Feature"
   ],
   "window_display": false
  }
 },
 "nbformat": 4,
 "nbformat_minor": 5
}
